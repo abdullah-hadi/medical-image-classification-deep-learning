{
  "cells": [
    {
      "cell_type": "code",
      "execution_count": null,
      "metadata": {
        "id": "NTL9JAB_zn0k"
      },
      "outputs": [],
      "source": [
        "# setting up drive and importing libraries\n",
        "import tensorflow\n",
        "import cv2\n",
        "import os\n",
        "from google.colab import drive"
      ]
    },
    {
      "cell_type": "code",
      "execution_count": null,
      "metadata": {
        "id": "wL61Pc3_S06E"
      },
      "outputs": [],
      "source": [
        "drive.mount(\"/content/drive\")"
      ]
    },
    {
      "cell_type": "code",
      "execution_count": null,
      "metadata": {
        "id": "LGdXoOxzxUnw"
      },
      "outputs": [],
      "source": [
        "cd / content / drive / MyDrive / medical - images"
      ]
    },
    {
      "cell_type": "code",
      "execution_count": null,
      "metadata": {
        "id": "k89Phl5nTfYU"
      },
      "outputs": [],
      "source": [
        "# data preprocessing\n",
        "path = \"/content/drive/MyDrive/medical-images/\"\n",
        "categories = os.listdir(path)\n",
        "labels = [label for label in range(len(categories))]\n",
        "label_names = dict(zip(categories, labels))\n",
        "print(label_names)"
      ]
    },
    {
      "cell_type": "code",
      "execution_count": null,
      "metadata": {
        "id": "BScfeIRlTtlL"
      },
      "outputs": [],
      "source": [
        "img_size = 256\n",
        "data = []\n",
        "label = []\n",
        "for category in categories:\n",
        "    folder_path = os.path.join(path, category)\n",
        "    img_names = os.listdir(folder_path)\n",
        "\n",
        "    for img_name in img_names:\n",
        "        img_path = os.path.join(folder_path, img_name)\n",
        "        img = cv2.imread(img_path)\n",
        "        try:\n",
        "            gray = cv2.cvtColor(img, cv2.COLOR_BGR2GRAY)\n",
        "            resized = cv2.resize(gray, (img_size, img_size))\n",
        "            data.append(resized)\n",
        "            label.append(label_names[category])\n",
        "        except Exception as e:\n",
        "            print(\"Exception:\", e)"
      ]
    },
    {
      "cell_type": "code",
      "execution_count": null,
      "metadata": {
        "id": "DRj6dU9zTxNw"
      },
      "outputs": [],
      "source": [
        "import numpy as np\n",
        "\n",
        "data = np.array(data) / 255.0\n",
        "data = np.reshape(data, (data.shape[0], size, size, 1))\n",
        "label = np.array(label)\n",
        "from keras.utils import np_utils\n",
        "\n",
        "new_label = np_utils.to_categorical(label)"
      ]
    },
    {
      "cell_type": "code",
      "execution_count": null,
      "metadata": {
        "id": "M2Ww7WuoeRAo"
      },
      "outputs": [],
      "source": [
        "new_label.shape"
      ]
    },
    {
      "cell_type": "code",
      "execution_count": null,
      "metadata": {
        "id": "XgsZogOtUPm2"
      },
      "outputs": [],
      "source": [
        "# CNN\n",
        "from keras.models import Sequential\n",
        "from keras.layers import Dense\n",
        "from keras.layers import Activation\n",
        "from keras.layers import Flatten\n",
        "from keras.layers import Dropout\n",
        "from keras.layers import Conv2D\n",
        "from keras.layers import MaxPooling2D\n",
        "from keras.callbacks import ModelCheckpoint\n",
        "\n",
        "model = Sequential()\n",
        "\n",
        "model.add(Conv2D(128, (3, 3), input_shape=data.shape[1:]))\n",
        "model.add(Activation(\"relu\"))\n",
        "model.add(MaxPooling2D(pool_size=(2, 2)))\n",
        "\n",
        "model.add(Conv2D(64, (3, 3)))\n",
        "model.add(Activation(\"relu\"))\n",
        "model.add(MaxPooling2D(pool_size=(2, 2)))\n",
        "\n",
        "model.add(Conv2D(32, (3, 3)))\n",
        "model.add(Activation(\"relu\"))\n",
        "model.add(MaxPooling2D(pool_size=(2, 2)))\n",
        "\n",
        "model.add(Flatten())\n",
        "model.add(Dropout(0.2))\n",
        "\n",
        "model.add(Dense(128, activation=\"relu\"))\n",
        "\n",
        "model.add(Dropout(0.1))\n",
        "model.add(Dense(64, activation=\"relu\"))\n",
        "\n",
        "model.add(Dense(5, activation=\"softmax\"))\n",
        "\n",
        "model.compile(loss=\"categorical_crossentropy\", optimizer=\"adam\", metrics=[\"accuracy\"])"
      ]
    },
    {
      "cell_type": "code",
      "execution_count": null,
      "metadata": {
        "id": "1oHT4H09UT8-"
      },
      "outputs": [],
      "source": [
        "# Train-test split\n",
        "from sklearn.model_selection import train_test_split\n",
        "\n",
        "x_train, x_test, y_train, y_test = train_test_split(data, new_label, test_size=0.1)"
      ]
    },
    {
      "cell_type": "code",
      "execution_count": null,
      "metadata": {
        "id": "j3BCXcrumxpv"
      },
      "outputs": [],
      "source": [
        "import matplotlib.pyplot as plt\n",
        "\n",
        "plt.figure(figsize=(10, 10))\n",
        "for i in range(20):\n",
        "    plt.subplot(5, 5, i + 1)\n",
        "    plt.xticks([])\n",
        "    plt.yticks([])\n",
        "    plt.grid(False)\n",
        "    plt.imshow(np.squeeze(x_test[i]))\n",
        "    plt.xlabel(categories[np.argmax(y_test[i])])\n",
        "plt.show()"
      ]
    },
    {
      "cell_type": "code",
      "execution_count": null,
      "metadata": {
        "id": "rmpEGWUMUUnh"
      },
      "outputs": [],
      "source": [
        "history = model.fit(x_train, y_train, epochs=11, validation_split=0.2)"
      ]
    },
    {
      "cell_type": "code",
      "execution_count": null,
      "metadata": {
        "id": "GWIlgOnjzdhT"
      },
      "outputs": [],
      "source": [
        "model.save(\"model.h5\")"
      ]
    },
    {
      "cell_type": "code",
      "execution_count": null,
      "metadata": {
        "id": "dTE4J3IGUWlt"
      },
      "outputs": [],
      "source": [
        "import matplotlib.pyplot as plt"
      ]
    },
    {
      "cell_type": "code",
      "execution_count": null,
      "metadata": {
        "id": "qBKLBWTroYTu"
      },
      "outputs": [],
      "source": [
        "vaL_loss, val_accuracy = model.evaluate(x_test, y_test, verbose=0)\n",
        "print(\"test loss:\", vaL_loss, \"%\")\n",
        "print(\"test accuracy:\", val_accuracy, \"%\")"
      ]
    },
    {
      "cell_type": "code",
      "execution_count": null,
      "metadata": {
        "id": "YO55PPeenshy"
      },
      "outputs": [],
      "source": [
        "# confusion matrix\n",
        "from sklearn.metrics import confusion_matrix\n",
        "from mlxtend.plotting import plot_confusion_matrix\n",
        "\n",
        "test_labels = np.argmax(y_test, axis=1)\n",
        "predictions = model.predict(x_test)\n",
        "predictions = np.argmax(predictions, axis=-1)\n",
        "cm = confusion_matrix(test_labels, predictions)\n",
        "plt.figure()\n",
        "plot_confusion_matrix(cm, figsize=(12, 8), hide_ticks=True, cmap=plt.cm.Oranges)\n",
        "plt.xticks(range(5), [\"Normal\", \"Doubtful\", \"Mid\", \"Moderate\", \"Severe\"])\n",
        "plt.yticks(range(5), [\"Normal\", \"Doubtful\", \"Mid\", \"Moderate\", \"Severe\"])\n",
        "plt.show()"
      ]
    }
  ],
  "metadata": {
    "accelerator": "GPU",
    "colab": {
      "provenance": []
    },
    "kernelspec": {
      "display_name": "Python 3",
      "language": "python",
      "name": "python3"
    },
    "language_info": {
      "codemirror_mode": {
        "name": "ipython",
        "version": 3
      },
      "file_extension": ".py",
      "mimetype": "text/x-python",
      "name": "python",
      "nbconvert_exporter": "python",
      "pygments_lexer": "ipython3",
      "version": "3.8.5"
    }
  },
  "nbformat": 4,
  "nbformat_minor": 0
}
